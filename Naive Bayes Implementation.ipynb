{
 "cells": [
  {
   "cell_type": "code",
   "execution_count": 349,
   "metadata": {},
   "outputs": [],
   "source": [
    "# importing necessary libraries and functions\n",
    "\n",
    "from sklearn import datasets\n",
    "import numpy as np\n",
    "from sklearn.model_selection import train_test_split\n",
    "import matplotlib.pyplot as plt"
   ]
  },
  {
   "cell_type": "code",
   "execution_count": 350,
   "metadata": {},
   "outputs": [],
   "source": [
    "# importing the required datasets\n",
    "\n",
    "from sklearn.datasets import fetch_20newsgroups\n",
    "newsgroups=fetch_20newsgroups()"
   ]
  },
  {
   "cell_type": "code",
   "execution_count": 351,
   "metadata": {},
   "outputs": [
    {
     "data": {
      "text/plain": [
       "dict_keys(['data', 'filenames', 'target_names', 'target', 'DESCR'])"
      ]
     },
     "execution_count": 351,
     "metadata": {},
     "output_type": "execute_result"
    }
   ],
   "source": [
    "# keys in the dataset\n",
    "newsgroups.keys()"
   ]
  },
  {
   "cell_type": "code",
   "execution_count": 352,
   "metadata": {},
   "outputs": [],
   "source": [
    "x=newsgroups.data\n",
    "y=newsgroups.target"
   ]
  },
  {
   "cell_type": "code",
   "execution_count": 380,
   "metadata": {},
   "outputs": [],
   "source": [
    "## The target values 0,1,2,3...19 correspond to the target_names in the newsgroups\n",
    "## meaning,\n",
    "## 0 indicates alt.atheism category\n",
    "## 1 indicates comp.graphics category and so on"
   ]
  },
  {
   "cell_type": "code",
   "execution_count": 353,
   "metadata": {},
   "outputs": [],
   "source": [
    "# splitting the dataset into training and testing\n",
    "x_train,x_test,y_train,y_test=train_test_split(x,y,random_state=0)"
   ]
  },
  {
   "cell_type": "code",
   "execution_count": 354,
   "metadata": {},
   "outputs": [],
   "source": [
    "import string\n",
    "\n",
    "# list of stopwords taken from Internet\n",
    "\n",
    "stopwords = ['i','me','my','myself','we','our','ours','ourselves','you',\"you're\",\"you've\",\"you'll\",\"you'd\",'your','yours','yourself','yourselves','he','him','his','himself','she',\"she's\",'her','hers','herself','it',\"it's\",'its','itself','they',\n",
    " 'them','their','theirs','themselves','what','which','who','whom','this','that',\"that'll\",'these','those','am','is','are','was','were','be',\n",
    " 'been','being','have','has','had','having','do','does','did','doing','a','an','the','and',\n",
    " 'but','if','or','because','as','until','while','of','at','by','for','with','about','against','between','into','through','during',\n",
    " 'before','after','above','below',\n",
    " 'to','from','up','down','in','out','on','off','over','under','again',\n",
    " 'further','then','once','here','there','when','where','why','how','all','any','both','each',\n",
    " 'few','more','most','other','some','such','no','nor','not','only','own','same','so','than','too','very','s','t','can','will','just',\n",
    " 'don',\"don't\",'should',\"should've\",'now','d','ll','m','o','re','ve','y','ain','aren',\"aren't\",'couldn',\"couldn't\",'didn',\"didn't\",'doesn',\"doesn't\",'hadn',\"hadn't\",'hasn',\"hasn't\",'haven',\"haven't\",'isn',\"isn't\",'ma','mightn',\"mightn't\",'mustn','could','may',\"mustn't\",'needn',\"needn't\",'shan',\"shan't\",'shouldn',\"shouldn't\",'wasn',\"wasn't\",'weren',\"weren't\",'won',\"won't\",'wouldn',\"wouldn't\"]"
   ]
  },
  {
   "cell_type": "code",
   "execution_count": 355,
   "metadata": {},
   "outputs": [],
   "source": [
    "# cleaning the data\n",
    "# removing the digits and punctuations\n",
    "\n",
    "def data_clean(sentence):\n",
    "    \n",
    "    # removing any digits present in the sentence\n",
    "    sentence = list(''.join([i for i in sentence if not i.isdigit()]))\n",
    "    \n",
    "    # removing all the punctuation marks in the sentence\n",
    "    p = list(sentence)\n",
    "    for j in range(len(p)):\n",
    "        if p[j] in string.punctuation:\n",
    "            p[j]=''\n",
    "            \n",
    "    # return the complete sentence after joining the words\n",
    "    return ''.join(p)"
   ]
  },
  {
   "cell_type": "code",
   "execution_count": 356,
   "metadata": {},
   "outputs": [],
   "source": [
    "# dictionary to account for the frequency of all words in the documents\n",
    "\n",
    "d={}\n",
    "for i in range(len(x_train)):\n",
    "    a = x_train[i].split('\\n')\n",
    "    for sentence in a:\n",
    "        clean_sentence = data_clean(sentence)\n",
    "        \n",
    "        # removing stopwords\n",
    "        for i in range(len(clean_sentence.split())):\n",
    "            word=clean_sentence.split()[i].lower()\n",
    "            if word in stopwords or len(word)<=2:\n",
    "                continue\n",
    "            \n",
    "            # creating the dictionary\n",
    "            d[word]=d.get(word,0) + 1"
   ]
  },
  {
   "cell_type": "code",
   "execution_count": 357,
   "metadata": {},
   "outputs": [],
   "source": [
    "values=np.array(list(d.values()))\n",
    "keys=np.array(list(d.keys()))\n",
    "\n",
    "# sorting in descending order\n",
    "index=np.argsort(values)\n",
    "index=index[::-1]\n",
    "values=values[index]\n",
    "keys=keys[index]"
   ]
  },
  {
   "cell_type": "code",
   "execution_count": 358,
   "metadata": {},
   "outputs": [],
   "source": [
    "# collecting the top words\n",
    "# words within threshold, a particular cut-off.\n",
    "\n",
    "threshold = 5000\n",
    "features = keys[:threshold]"
   ]
  },
  {
   "cell_type": "code",
   "execution_count": 359,
   "metadata": {},
   "outputs": [],
   "source": [
    "# creating the 2d array\n",
    "# vocabulary is the 2d array\n",
    "\n",
    "def get_2d_array(x,features):\n",
    "    size=len(x)*threshold\n",
    "    \n",
    "    # 2d array \n",
    "    vocabulary = np.zeros(size).reshape(len(x),threshold)\n",
    "    \n",
    "    for i in range(len(x)):\n",
    "        \n",
    "        # splitting the paragraph into sentences\n",
    "        a = x[i].split('\\n')\n",
    "        \n",
    "        # iterating over sentences\n",
    "        # and cleaning each one of them\n",
    "        for sentence in a:\n",
    "            clean_sentence = data_clean(sentence)\n",
    "            \n",
    "            for j in range(len(clean_sentence.split())):\n",
    "                \n",
    "                # convert word into lowercase\n",
    "                word=clean_sentence.split()[j].lower()\n",
    "\n",
    "                # if the word is a feature, we increase its count by 1\n",
    "                if word in features:\n",
    "                    index=np.where(features==word)\n",
    "                    vocabulary[i][index]+=1\n",
    "    return vocabulary"
   ]
  },
  {
   "cell_type": "code",
   "execution_count": null,
   "metadata": {},
   "outputs": [],
   "source": [
    "## TEXT CLASSIFICATION USING MULTINOMIAL NAIVE BAYES ALREADY IMPLEMENTED IN SKLERN"
   ]
  },
  {
   "cell_type": "code",
   "execution_count": 360,
   "metadata": {},
   "outputs": [],
   "source": [
    "# creating the 2d array with training data\n",
    "# by calling function get_2d_array\n",
    "\n",
    "x_train_2d_data=get_2d_array(x_train,features)"
   ]
  },
  {
   "cell_type": "code",
   "execution_count": 361,
   "metadata": {},
   "outputs": [
    {
     "data": {
      "text/plain": [
       "MultinomialNB(alpha=1.0, class_prior=None, fit_prior=True)"
      ]
     },
     "execution_count": 361,
     "metadata": {},
     "output_type": "execute_result"
    }
   ],
   "source": [
    "from sklearn.naive_bayes import MultinomialNB\n",
    "\n",
    "# create classifier object\n",
    "clf=MultinomialNB()\n",
    "\n",
    "# fitting the classifier using training data\n",
    "clf.fit(x_train_2d_data,y_train)"
   ]
  },
  {
   "cell_type": "code",
   "execution_count": 362,
   "metadata": {},
   "outputs": [],
   "source": [
    "# creating the 2d array with testing data\n",
    "x_test_2d_data=get_2d_array(x_test,features)"
   ]
  },
  {
   "cell_type": "code",
   "execution_count": 363,
   "metadata": {},
   "outputs": [],
   "source": [
    "# predict the output using inbuilt predict function\n",
    "y_predict=clf.predict(x_test_2d_data)"
   ]
  },
  {
   "cell_type": "code",
   "execution_count": 365,
   "metadata": {},
   "outputs": [
    {
     "name": "stdout",
     "output_type": "stream",
     "text": [
      "CLASSIFICATION REPORT\n",
      "\n",
      "              precision    recall  f1-score   support\n",
      "\n",
      "           0       0.79      0.89      0.84       112\n",
      "           1       0.63      0.81      0.71       147\n",
      "           2       0.81      0.77      0.79       140\n",
      "           3       0.70      0.71      0.71       148\n",
      "           4       0.74      0.83      0.78       149\n",
      "           5       0.86      0.79      0.82       159\n",
      "           6       0.73      0.84      0.78       131\n",
      "           7       0.86      0.82      0.84       158\n",
      "           8       0.88      0.90      0.89       162\n",
      "           9       0.93      0.95      0.94       148\n",
      "          10       0.95      0.97      0.96       150\n",
      "          11       0.99      0.91      0.95       155\n",
      "          12       0.81      0.73      0.77       147\n",
      "          13       0.96      0.87      0.91       131\n",
      "          14       0.96      0.90      0.93       154\n",
      "          15       0.93      0.90      0.91       155\n",
      "          16       0.87      0.93      0.90       144\n",
      "          17       0.94      0.86      0.90       144\n",
      "          18       0.83      0.80      0.81       108\n",
      "          19       0.84      0.70      0.76        87\n",
      "\n",
      "    accuracy                           0.85      2829\n",
      "   macro avg       0.85      0.84      0.84      2829\n",
      "weighted avg       0.85      0.85      0.85      2829\n",
      "\n",
      "\n",
      "CONFUSION MATRIX\n",
      "\n",
      "[[100   0   0   0   0   0   0   0   1   0   0   0   0   1   0   4   0   2\n",
      "    2   2]\n",
      " [  1 119   6   4   1   5   4   0   1   0   0   0   4   2   0   0   0   0\n",
      "    0   0]\n",
      " [  0   4 108  15   1   7   4   0   0   0   0   0   1   0   0   0   0   0\n",
      "    0   0]\n",
      " [  0  12   8 105  13   1   5   0   0   0   0   0   3   0   1   0   0   0\n",
      "    0   0]\n",
      " [  0   6   0   9 123   0   6   1   0   0   0   0   4   0   0   0   0   0\n",
      "    0   0]\n",
      " [  0  22   7   2   1 125   0   0   1   0   0   0   1   0   0   0   0   0\n",
      "    0   0]\n",
      " [  1   0   0   5   4   1 110   2   1   0   3   0   1   0   1   0   1   1\n",
      "    0   0]\n",
      " [  0   1   0   0   5   0   7 130   7   1   0   0   3   0   0   0   2   0\n",
      "    0   2]\n",
      " [  0   0   0   2   0   0   2   7 146   1   0   0   1   1   1   0   1   0\n",
      "    0   0]\n",
      " [  0   2   0   0   0   0   3   0   0 140   2   0   0   1   0   0   0   0\n",
      "    0   0]\n",
      " [  0   0   0   0   0   0   0   1   1   3 145   0   0   0   0   0   0   0\n",
      "    0   0]\n",
      " [  1   3   0   0   0   4   0   0   0   0   0 141   2   0   0   0   2   0\n",
      "    2   0]\n",
      " [  0   5   4   7  14   0   1   5   1   0   1   0 107   0   1   0   1   0\n",
      "    0   0]\n",
      " [  0   3   1   0   1   2   3   1   0   0   0   0   0 114   2   2   2   0\n",
      "    0   0]\n",
      " [  1   7   0   0   0   0   0   0   1   3   1   0   3   0 138   0   0   0\n",
      "    0   0]\n",
      " [  4   1   0   0   2   0   2   0   1   0   0   0   1   0   0 139   0   2\n",
      "    1   2]\n",
      " [  0   0   0   0   0   0   2   2   0   1   0   0   0   0   0   0 134   0\n",
      "    4   1]\n",
      " [  2   1   0   0   2   0   0   0   1   0   0   0   1   0   0   1   2 124\n",
      "    6   4]\n",
      " [  6   1   0   0   0   0   1   1   2   2   0   1   0   0   0   0   4   3\n",
      "   86   1]\n",
      " [ 10   1   0   0   0   0   0   1   1   0   0   1   0   0   0   4   5   0\n",
      "    3  61]]\n"
     ]
    }
   ],
   "source": [
    "# Printing the Classification report and \n",
    "# Confusion Matrix \n",
    "# using INBUILT Multinomial Naive Bayes \n",
    "\n",
    "from sklearn.metrics import classification_report, confusion_matrix\n",
    "print('CLASSIFICATION REPORT')\n",
    "print()\n",
    "print(classification_report(y_test,y_predict))\n",
    "print()\n",
    "print('CONFUSION MATRIX')\n",
    "print()\n",
    "print(confusion_matrix(y_test,y_predict))"
   ]
  },
  {
   "cell_type": "code",
   "execution_count": 367,
   "metadata": {},
   "outputs": [
    {
     "data": {
      "text/plain": [
       "[]"
      ]
     },
     "execution_count": 367,
     "metadata": {},
     "output_type": "execute_result"
    },
    {
     "data": {
      "image/png": "[encoded data removed]",
      "text/plain": [
       "<Figure size 432x288 with 1 Axes>"
      ]
     },
     "metadata": {
      "needs_background": "light"
     },
     "output_type": "display_data"
    }
   ],
   "source": [
    "# After running the code for some different values of threshold,\n",
    "# I have plotted the graph\n",
    "# for Accuracy achieved vs No. of features taken\n",
    "# Accuracy increases as the words taken increased \n",
    "# but the time taken also increases.\n",
    "\n",
    "\n",
    "accuracy=[71,83,85,87]\n",
    "Number_of_features=[1000,3000,5000,10000]\n",
    "import matplotlib.pyplot as plt\n",
    "plt.plot(Number_of_features,accuracy)\n",
    "plt.xlabel('Number of features selected from Vocabulary')\n",
    "plt.ylabel('Accuracy in %')\n",
    "plt.plot()"
   ]
  },
  {
   "cell_type": "code",
   "execution_count": 368,
   "metadata": {},
   "outputs": [],
   "source": [
    "# IMPLEMENTING MULTINOMIAL NAIVE BAYES FROM SCRATCH ON MY OWN FOR TEXT CLASSIFICATION"
   ]
  },
  {
   "cell_type": "code",
   "execution_count": 369,
   "metadata": {},
   "outputs": [],
   "source": [
    "# defining the fit function\n",
    "\n",
    "def fit(x_train,y_train):\n",
    "    \n",
    "    x_train=np.array(x_train)\n",
    "    y_train=np.array(y_train)\n",
    "    \n",
    "    result={}\n",
    "    \n",
    "    # unique values in the output\n",
    "    class_values=set(y_train)\n",
    "    \n",
    "    # iterating over each output of class\n",
    "    for current_class in class_values:\n",
    "        \n",
    "        result[current_class]={}\n",
    "        \n",
    "        result['total_data']=len(y_train)\n",
    "        \n",
    "        # rows of current class\n",
    "        bool_arr = (y_train==current_class)\n",
    "        \n",
    "        # training data for current class\n",
    "        x_train_current=x_train[bool_arr]\n",
    "        y_train_current=y_train[bool_arr]\n",
    "        \n",
    "        # storing the count of rows for which oytput is current class\n",
    "        result[current_class]['total_count']=len(y_train_current)\n",
    "        \n",
    "        total_words_current_class = 0\n",
    "        \n",
    "        for i in range(len(features)):\n",
    "            \n",
    "            # count of feature i in current_class\n",
    "            count=(x_train_current[:,i]).sum()\n",
    "            result[current_class][i] = count\n",
    "            \n",
    "            # finding the total count of words in the document i.e. in the current class\n",
    "            total_words_current_class += count\n",
    "        \n",
    "        # storing the total count of words in a given document in dictionary\n",
    "        result[current_class]['total_words'] = total_words_current_class\n",
    "        \n",
    "    return result"
   ]
  },
  {
   "cell_type": "code",
   "execution_count": 370,
   "metadata": {},
   "outputs": [],
   "source": [
    "def probability(dictionary,x,current_class):\n",
    "    \n",
    "    import numpy as np\n",
    "    \n",
    "    # prior probability\n",
    "    output = np.log(dictionary[current_class]['total_count']) - np.log(dictionary['total_data'])\n",
    "    \n",
    "    for j in range(len(x)):\n",
    "        xj=x[j]\n",
    "        \n",
    "        # if a particular word doesn't exist in the document\n",
    "        # that is, its frequency is 0\n",
    "        # we simply don't consider the word in calculations\n",
    "        if xj>0:\n",
    "            \n",
    "            # Numerator\n",
    "            # Add 1 for Laplace Correction\n",
    "            nr = dictionary[current_class][j]+1\n",
    "            \n",
    "            # Denominator\n",
    "            # Add number of features for laplace correction\n",
    "            dr = dictionary[current_class]['total_words'] + len(features)\n",
    "            \n",
    "            # probability\n",
    "            p = nr/dr\n",
    "            \n",
    "            output += np.log(p)\n",
    "        \n",
    "    return output\n",
    "            "
   ]
  },
  {
   "cell_type": "code",
   "execution_count": 371,
   "metadata": {},
   "outputs": [],
   "source": [
    "def predictSinglePoint(dictionary,x):\n",
    "    \n",
    "    # output classes\n",
    "    classes=dictionary.keys()\n",
    "    \n",
    "    best_p=-1000\n",
    "    best_class=-1\n",
    "    first_run=True\n",
    "    \n",
    "    for current_class in classes:\n",
    "        if (current_class=='total_data'):\n",
    "            continue\n",
    "            \n",
    "        # probability that x belongs to this class\n",
    "        p_current_class = probability(dictionary,x,current_class)\n",
    "        \n",
    "        # finding the largest probability\n",
    "        if (first_run or p_current_class > best_p):\n",
    "            best_p = p_current_class\n",
    "            best_class = current_class\n",
    "        first_run = False\n",
    "        \n",
    "    return best_class"
   ]
  },
  {
   "cell_type": "code",
   "execution_count": 372,
   "metadata": {},
   "outputs": [],
   "source": [
    "def predict(dictionary,x_test):\n",
    "    \n",
    "    # array for the predictions of the testing data\n",
    "    y_pred=[]\n",
    "    \n",
    "    # iterating over each point in the dataset to find the output class\n",
    "    for x in x_test:\n",
    "        x_class = predictSinglePoint(dictionary,x)\n",
    "        y_pred.append(x_class)\n",
    "    \n",
    "    # return the predicted output for testing data\n",
    "    return y_pred"
   ]
  },
  {
   "cell_type": "code",
   "execution_count": 373,
   "metadata": {},
   "outputs": [],
   "source": [
    "dictionary= fit(x_train_2d_data,y_train)"
   ]
  },
  {
   "cell_type": "code",
   "execution_count": 374,
   "metadata": {},
   "outputs": [],
   "source": [
    "y_predict_self = predict(dictionary,x_test_2d_data)"
   ]
  },
  {
   "cell_type": "code",
   "execution_count": 375,
   "metadata": {},
   "outputs": [
    {
     "name": "stdout",
     "output_type": "stream",
     "text": [
      "CLASSIFICATION REPORT\n",
      "\n",
      "              precision    recall  f1-score   support\n",
      "\n",
      "           0       0.79      0.88      0.84       112\n",
      "           1       0.62      0.82      0.71       147\n",
      "           2       0.79      0.76      0.78       140\n",
      "           3       0.75      0.68      0.71       148\n",
      "           4       0.71      0.81      0.76       149\n",
      "           5       0.87      0.74      0.80       159\n",
      "           6       0.69      0.85      0.76       131\n",
      "           7       0.85      0.80      0.82       158\n",
      "           8       0.85      0.91      0.88       162\n",
      "           9       0.94      0.94      0.94       148\n",
      "          10       0.97      0.94      0.96       150\n",
      "          11       0.99      0.90      0.94       155\n",
      "          12       0.78      0.74      0.76       147\n",
      "          13       0.93      0.85      0.89       131\n",
      "          14       0.94      0.87      0.90       154\n",
      "          15       0.92      0.88      0.90       155\n",
      "          16       0.87      0.92      0.89       144\n",
      "          17       0.93      0.88      0.90       144\n",
      "          18       0.85      0.80      0.82       108\n",
      "          19       0.77      0.70      0.73        87\n",
      "\n",
      "    accuracy                           0.84      2829\n",
      "   macro avg       0.84      0.83      0.83      2829\n",
      "weighted avg       0.84      0.84      0.84      2829\n",
      "\n",
      "CONFUSION MATRIX\n",
      "[[ 99   0   0   0   0   0   0   0   1   0   0   0   0   1   0   4   0   2\n",
      "    2   3]\n",
      " [  0 120   8   3   2   4   4   0   2   0   0   0   2   2   0   0   0   0\n",
      "    0   0]\n",
      " [  0   6 107  12   2   5   3   1   0   0   0   0   4   0   0   0   0   0\n",
      "    0   0]\n",
      " [  0  13   7 100  17   0   7   0   0   0   0   0   3   0   1   0   0   0\n",
      "    0   0]\n",
      " [  0   7   2   8 121   0   5   2   0   0   0   0   4   0   0   0   0   0\n",
      "    0   0]\n",
      " [  1  25   8   2   1 118   1   0   0   0   0   0   1   0   2   0   0   0\n",
      "    0   0]\n",
      " [  1   0   0   2   5   1 111   1   1   0   1   1   2   1   2   0   1   1\n",
      "    0   0]\n",
      " [  0   0   0   0   5   0   9 126   5   0   0   0   7   0   1   0   3   0\n",
      "    0   2]\n",
      " [  0   0   0   2   0   0   4   5 148   1   0   0   0   0   1   0   1   0\n",
      "    0   0]\n",
      " [  0   1   0   0   0   0   4   0   1 139   2   0   0   1   0   0   0   0\n",
      "    0   0]\n",
      " [  0   1   0   0   0   0   1   1   2   4 141   0   0   0   0   0   0   0\n",
      "    0   0]\n",
      " [  1   3   0   0   0   5   0   0   0   0   0 140   1   0   0   0   4   0\n",
      "    1   0]\n",
      " [  0   4   3   4  14   1   2   5   2   0   1   0 109   0   0   0   1   0\n",
      "    1   0]\n",
      " [  0   5   1   0   1   1   3   3   1   0   0   0   1 111   2   2   0   0\n",
      "    0   0]\n",
      " [  1   6   0   0   0   0   0   1   4   2   0   0   3   1 134   1   0   0\n",
      "    1   0]\n",
      " [  2   1   0   0   2   0   2   0   2   0   0   0   0   2   0 136   0   2\n",
      "    0   6]\n",
      " [  1   0   0   0   0   0   2   2   0   1   0   0   1   0   0   0 132   0\n",
      "    3   2]\n",
      " [  3   1   0   0   1   0   1   0   2   0   0   0   1   0   0   1   2 126\n",
      "    4   2]\n",
      " [  5   0   0   0   0   0   2   1   3   1   0   1   0   0   0   0   3   3\n",
      "   86   3]\n",
      " [ 11   0   0   0   0   0   1   1   1   0   0   0   0   0   0   4   4   1\n",
      "    3  61]]\n"
     ]
    }
   ],
   "source": [
    "# Printing the Classification report and \n",
    "# Confusion Matrix \n",
    "# using OUR OWN CODE OF Multinomial Naive Bayes \n",
    "\n",
    "print('CLASSIFICATION REPORT')\n",
    "print()\n",
    "print(classification_report(y_test,y_predict_self))\n",
    "print('CONFUSION MATRIX')\n",
    "print(confusion_matrix(y_test,y_predict_self))"
   ]
  },
  {
   "cell_type": "markdown",
   "metadata": {},
   "source": [
    "## COMPARISON\n",
    "## As can be seen, both ( inbuilt and self implemented Multinomial Naive Bayes ) are performing nearly the same.\n",
    "## One is doing good for few classes and other is doing good for some other output classes\n",
    "## Also, as we increase the number of features the results improve, but the time taken also increases."
   ]
  },
  {
   "cell_type": "markdown",
   "metadata": {},
   "source": [
    "## For inbuilt Multinomial Naive Bayes Accuracy = 85 %\n",
    "## For own Multinomial Naive Bayes Accuracy = 84 %"
   ]
  },
  {
   "cell_type": "markdown",
   "metadata": {},
   "source": [
    "## I have taken no. of features = 5000\n",
    "## But did not wanted to increase further as the time being consumed was very large as compared to increase in accuracy"
   ]
  },
  {
   "cell_type": "code",
   "execution_count": null,
   "metadata": {},
   "outputs": [],
   "source": []
  }
 ],
 "metadata": {
  "kernelspec": {
   "display_name": "Python 3",
   "language": "python",
   "name": "python3"
  },
  "language_info": {
   "codemirror_mode": {
    "name": "ipython",
    "version": 3
   },
   "file_extension": ".py",
   "mimetype": "text/x-python",
   "name": "python",
   "nbconvert_exporter": "python",
   "pygments_lexer": "ipython3",
   "version": "3.7.4"
  }
 },
 "nbformat": 4,
 "nbformat_minor": 2
}
